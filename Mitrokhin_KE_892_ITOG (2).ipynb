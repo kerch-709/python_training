{
  "cells": [
    {
      "cell_type": "markdown",
      "metadata": {
        "id": "nScVltl2o1ks"
      },
      "source": [
        "**<center> ГОСУДАРСТВЕННОЕ БЮДЖЕТНОЕ ОБРАЗОВАТЕЛЬНОЕ УЧРЕЖДЕНИЕ</center>**\n",
        "**<center>ГОРОДА МОСКВЫ</center>**\n",
        "**<center>ДОПОЛНИТЕЛЬНОГО ПРОФЕССИОНАЛЬНОГО ОБРАЗОВАНИЯ</center>**\n",
        "**<center>ЦЕНТР ПРОФЕССИОНАЛЬНЫХ КВАЛИФИКАЦИЙ И СОДЕЙСТВИЯ ТРУДОУСТРОЙСТВУ</center>**\n",
        "**<center>«ПРОФЕССИОНАЛ»</center>**\n",
        "<br>\n",
        "<br>\n",
        "<br>\n",
        "<br>\n",
        "<br>\n",
        "<br>\n",
        "<br>\n",
        "<br>\n",
        "<br>\n",
        "<br>\n",
        "<br>\n",
        "<br>\n",
        "<br>"
      ]
    },
    {
      "cell_type": "markdown",
      "metadata": {
        "id": "OcKsE6PjWwMB"
      },
      "source": [
        "#### <center> ИТОГОВАЯ АТТЕСТАЦИОННАЯ РАБОТА </center>\n",
        "<center> на тему </center>\n",
        "<center> «Анализ данных с использованием Python» </center>\n",
        "<center> (на примере анализа данных исследуемого продукта) </center> \n",
        "<center>слушателя МИТРОХИНА Кирилла Эдуардовича<br>группы № 892 </center>\n",
        " <center>по программе профессиональной переподготовки </center>\n",
        "<center> «Аналитик данных» </center>\n",
        "<br>\n",
        "<br>\n",
        "<br>\n",
        "<br>\n",
        "<br>\n",
        "<br>\n",
        "<br>\n",
        "<br>\n",
        "<br>\n",
        "<br>\n",
        "<br>\n",
        "<br>\n",
        "<br>\n",
        "<br>\n",
        "<br>\n",
        "<br>\n",
        "<br>\n",
        "<br>"
      ]
    },
    {
      "cell_type": "markdown",
      "metadata": {
        "id": "a8VeexFlqOlS"
      },
      "source": [
        "#### <center> Москва, 2022"
      ]
    },
    {
      "cell_type": "markdown",
      "metadata": {
        "id": "XGvN8LQgtrG8"
      },
      "source": [
        "### Цель исследования:"
      ]
    },
    {
      "cell_type": "markdown",
      "metadata": {
        "id": "tZi25gantrG9"
      },
      "source": [
        "Необходимо выявить определяющие популярность марки вина закономерности и попытаться выяснить, что можно предложить покупателям вина при выборе вина. Это позволит сделать ставку на потенциально популярный продукт и спланировать например рекламную кампанию для интернет-магазинов, осуществляющих продажи вина.\n",
        "\n",
        "Выполнение задачи предполагает:<br>\n",
        "<a href=#1>1.  Предобработку данных</a><br>\n",
        "<a href=#2>2.  Исследовательский анализ данных</a><br>\n",
        "<a href=#3>3.  Составление портрета пользователя.</a><br>\n",
        "<a href=#4>4.  Исследование статистических показателей.</a><br>\n",
        "<a href=#5>5.  Проверку гипотез.</a><br>\n",
        "<a href=#6>6.  Выводы</a><br>\n",
        "\n",
        "Цель этого проекта — выявить, какие признаки больше всего влияют на рейтинг вина. Для анализа используется набор данных из Kaggle, крупнейшего в мире сообщества специалистов по данным и машинному обучению. Набор данных состоит из 13 признаков (2 числовых признака и 11 категориальных признаков). "
      ]
    },
    {
      "cell_type": "markdown",
      "metadata": {
        "id": "IM8Z1LgUtrG_"
      },
      "source": [
        "#### Столбцы данных\n",
        "\n",
        "- Страна - страна происхождения вина.\n",
        "- Описание — описание вкусового профиля вина.\n",
        "- Обозначение - виноградник, откуда берется виноград для вина.\n",
        "- Баллы - количество баллов на которое критик журнала Wine Enthusiast оценил вино по шкале от 1 до 100.\n",
        "- Цена - стоимость одной бутылки вина.\n",
        "- Провинция — провинция или штат, из которого произведено вино.\n",
        "- Регион 1 — зона виноделия в провинции или штате (например, долина Напа в Калифорнии).\n",
        "- Регион 2 — (не обязательно) более конкретный регион в винодельческой области (например, Резерфорд в долине Напа).\n",
        "- Разновидность — сорт винограда, из которого делают вино (например, Пино Нуар).\n",
        "- Винодельня — винодельня, производящая вино."
      ]
    },
    {
      "cell_type": "markdown",
      "metadata": {
        "id": "KE_Sx5hftrHB"
      },
      "source": [
        "### Шаг 1. Открытие файла с данными и изучение общей информации\n",
        "\n",
        "\n",
        "\n",
        "### Шаг 2. Подготовка данных\n",
        "\n",
        "* Заменить названия столбцов (привести к нижнему регистру).\n",
        "* Преобразовать данные в нужные типы. Описать, в каких столбцах заменили тип данных и почему.\n",
        "* Обработать пропуски при необходимости.\n",
        "* Объяснить, почему заполнили пропуски определённым образом или почему не стали это делать.\n",
        "* Описать причины, которые могли привести к пропускам.\n",
        "* Посчитать среднии цены для каждой страны.\n",
        "* Внести новый столбец \"Континенты\"\n",
        "country_to_continent = {<br>\n",
        "    'Italy':'Europe', <br>\n",
        "    'Portugal':'Europe', <br>\n",
        "    'US':'North America', <br>\n",
        "    'Spain':'Europe',<br>\n",
        "    'France':'Europe',<br>\n",
        "    'Germany':'Europe',<br>\n",
        "    'Argentina':'Latin America', <br>\n",
        "    'Chile':'Latin America', <br>\n",
        "    'Australia': 'Oceania', <br>\n",
        "    'Austria': 'Europe', <br>\n",
        "    'South Africa': 'Africa',<br>\n",
        "    'New Zealand': 'Oceania', <br>\n",
        "    'Israel': 'Asia', <br>\n",
        "    'Hungary':'Europe', <br>\n",
        "    'Greece':'Europe',<br>\n",
        "    'Romania':'Europe', <br>\n",
        "    'Mexico':'Latin America',<br>\n",
        "    'Canada':'North America',<br>\n",
        "    'Turkey': 'Asia',<br>\n",
        "    'Czech Republic': 'Europe',<br>\n",
        "    'Slovenia': 'Europe',<br>\n",
        "    'Luxembourg': 'Europe',<br>\n",
        "    'Croatia': 'Europe',<br>\n",
        "    'Georgia':'Europe', <br>\n",
        "    'Uruguay': 'Latin America',<br>\n",
        "    'England': 'Europe',<br>\n",
        "    'Lebanon': 'Asia', <br>\n",
        "    'Serbia': 'Europe', <br>\n",
        "    'Brazil': 'Latin America',<br> \n",
        "    'Moldova': 'Europe', <br>\n",
        "    'Morocco':'Africa',<br>\n",
        "    'Peru':'Latin America',<br>\n",
        "    'India':'Asia', <br>\n",
        "    'Bulgaria':'Europe',<br>\n",
        "    'Cyprus': 'Europe',<br>\n",
        "    'Armenia':'Asia',<br>\n",
        "    'Switzerland':'Europe',<br>\n",
        "    'Bosnia and Herzegovina':'Europe',<br>\n",
        "    'Ukraine':'Europe',<br>\n",
        "    'Slovakia':'Europe', <br>\n",
        "    'Macedonia':'Europe',<br>\n",
        "    'China':'Asia',<br>\n",
        "    'Egypt':'Africa'<br>\n",
        "    }<br>\n",
        "\n",
        "### Шаг 3. Провести исследовательский анализ данных\n",
        "\n",
        "* Определить, какие сорта лидируют по рейтингам. Найти популярные сорта по региону.\n",
        "* Выбрать сорта с наибольшими ценами. Для каждого региона найдите среднюю цену вина.\n",
        "* Определить, популярные сорта вина в бюджетном сегменте.\n",
        "* Определить, какие сорта вина лидируют по рейтингам. \n",
        "* Построить график «ящик с усами» по рейтингам в разбивке по странам, по сортам вина.\n",
        "* Выявить закономерность влияния на цену цвета и рейтинга. Построить диаграмму рассеяния и посчитать корреляцию. \n",
        "\n",
        "\n",
        "### Шаг 4. Составить портрет потребителя каждого региона\n",
        "\n",
        "Определить для пользователя каждого континента :\n",
        "* Самые популярные сорта (топ-5). \n",
        "* Влияет ли рейтинг на цены по регионам?\n",
        "\n",
        "### Шаг 5. Провести исследование статистических показателей\n",
        "\n",
        "* Выполнить подсчитать среднего количества, дисперсии и стандартного отклонения для цен на продукт различных регионов. Построить гистограммы. Описать распределения. \n",
        "* Построить линейную регрессию зависимости между ценой продукта и его рейтингом.\n",
        "\n",
        "### Шаг 6. Проверка гипотез\n",
        "\n",
        "* H0: Средние пользовательские рейтинги красного и белого вина одинаковые.\n",
        "* H1:Средние пользовательские рейтинги красного и белого вина разные.\n",
        "\n",
        "\n",
        "* H0:Средние пользовательские рейтинги двух популярных сортов вина одинаковые.\n",
        "* H1:Средние пользовательские рейтинги двух популярных сортов вина разные.\n",
        "\n",
        "\n",
        "* H0:Средние пользовательские рейтинги двух континентов одинаковые.\n",
        "* H1:Средние пользовательские рейтинги двух континентов разные.\n",
        "\n",
        "Задать самостоятельно пороговое значение alpha.\n",
        "\n",
        "\n",
        "### Вывод"
      ]
    },
    {
      "cell_type": "markdown",
      "metadata": {
        "id": "QPIB3vT2trHE"
      },
      "source": [
        "#  <a name=\"1\">1.Предобработка данных</a>"
      ]
    },
    {
      "cell_type": "markdown",
      "metadata": {
        "id": "SiCBD6VStrHG"
      },
      "source": [
        "Импортируем необходимые библиотеки"
      ]
    },
    {
      "cell_type": "code",
      "execution_count": 2,
      "metadata": {
        "id": "xR-yzUd3trHI"
      },
      "outputs": [],
      "source": [
        "import pandas as pd\n",
        "import numpy as np\n",
        "import matplotlib.pyplot as plt\n",
        "import seaborn as sns\n",
        "import matplotlib.cm as cm\n",
        "\n",
        "import scipy.stats as st\n",
        "# импорт библиотеки warnings\n",
        "import warnings\n",
        "warnings.simplefilter(action='ignore', category=FutureWarning)"
      ]
    },
    {
      "cell_type": "markdown",
      "metadata": {
        "id": "c2giWBahtrHL"
      },
      "source": [
        "Загрузка данных"
      ]
    },
    {
      "cell_type": "code",
      "execution_count": 3,
      "metadata": {
        "id": "ZZQWwJwdtrHM",
        "outputId": "2fcd3b10-a42c-43fa-c2bd-6a6e5083da43"
      },
      "outputs": [
        {
          "data": {
            "text/html": [
              "<div>\n",
              "<style scoped>\n",
              "    .dataframe tbody tr th:only-of-type {\n",
              "        vertical-align: middle;\n",
              "    }\n",
              "\n",
              "    .dataframe tbody tr th {\n",
              "        vertical-align: top;\n",
              "    }\n",
              "\n",
              "    .dataframe thead th {\n",
              "        text-align: right;\n",
              "    }\n",
              "</style>\n",
              "<table border=\"1\" class=\"dataframe\">\n",
              "  <thead>\n",
              "    <tr style=\"text-align: right;\">\n",
              "      <th></th>\n",
              "      <th>country</th>\n",
              "      <th>description</th>\n",
              "      <th>designation</th>\n",
              "      <th>points</th>\n",
              "      <th>price</th>\n",
              "      <th>province</th>\n",
              "      <th>region_1</th>\n",
              "      <th>region_2</th>\n",
              "      <th>variety</th>\n",
              "      <th>winery</th>\n",
              "    </tr>\n",
              "  </thead>\n",
              "  <tbody>\n",
              "    <tr>\n",
              "      <th>0</th>\n",
              "      <td>US</td>\n",
              "      <td>With a delicate, silky mouthfeel and bright ac...</td>\n",
              "      <td>NaN</td>\n",
              "      <td>86</td>\n",
              "      <td>23.0</td>\n",
              "      <td>California</td>\n",
              "      <td>Central Coast</td>\n",
              "      <td>Central Coast</td>\n",
              "      <td>Pinot Noir</td>\n",
              "      <td>MacMurray Ranch</td>\n",
              "    </tr>\n",
              "    <tr>\n",
              "      <th>1</th>\n",
              "      <td>Italy</td>\n",
              "      <td>D'Alceo is a drop dead gorgeous wine that ooze...</td>\n",
              "      <td>D'Alceo</td>\n",
              "      <td>96</td>\n",
              "      <td>275.0</td>\n",
              "      <td>Tuscany</td>\n",
              "      <td>Toscana</td>\n",
              "      <td>NaN</td>\n",
              "      <td>Red Blend</td>\n",
              "      <td>Castello dei Rampolla</td>\n",
              "    </tr>\n",
              "    <tr>\n",
              "      <th>2</th>\n",
              "      <td>France</td>\n",
              "      <td>The great dominance of Cabernet Sauvignon in t...</td>\n",
              "      <td>NaN</td>\n",
              "      <td>91</td>\n",
              "      <td>40.0</td>\n",
              "      <td>Bordeaux</td>\n",
              "      <td>Haut-Médoc</td>\n",
              "      <td>NaN</td>\n",
              "      <td>Bordeaux-style Red Blend</td>\n",
              "      <td>Château Bernadotte</td>\n",
              "    </tr>\n",
              "    <tr>\n",
              "      <th>3</th>\n",
              "      <td>Italy</td>\n",
              "      <td>The modest cherry, dark berry and black tea no...</td>\n",
              "      <td>NaN</td>\n",
              "      <td>81</td>\n",
              "      <td>15.0</td>\n",
              "      <td>Tuscany</td>\n",
              "      <td>Chianti Classico</td>\n",
              "      <td>NaN</td>\n",
              "      <td>Sangiovese</td>\n",
              "      <td>Valiano</td>\n",
              "    </tr>\n",
              "    <tr>\n",
              "      <th>4</th>\n",
              "      <td>US</td>\n",
              "      <td>Exceedingly light in color, scent and flavor, ...</td>\n",
              "      <td>NaN</td>\n",
              "      <td>83</td>\n",
              "      <td>25.0</td>\n",
              "      <td>Oregon</td>\n",
              "      <td>Rogue Valley</td>\n",
              "      <td>Southern Oregon</td>\n",
              "      <td>Pinot Noir</td>\n",
              "      <td>Deer Creek</td>\n",
              "    </tr>\n",
              "    <tr>\n",
              "      <th>...</th>\n",
              "      <td>...</td>\n",
              "      <td>...</td>\n",
              "      <td>...</td>\n",
              "      <td>...</td>\n",
              "      <td>...</td>\n",
              "      <td>...</td>\n",
              "      <td>...</td>\n",
              "      <td>...</td>\n",
              "      <td>...</td>\n",
              "      <td>...</td>\n",
              "    </tr>\n",
              "    <tr>\n",
              "      <th>19995</th>\n",
              "      <td>France</td>\n",
              "      <td>Firm wine, with tannins to match the chunky st...</td>\n",
              "      <td>Mansois</td>\n",
              "      <td>88</td>\n",
              "      <td>12.0</td>\n",
              "      <td>Southwest France</td>\n",
              "      <td>Marcillac</td>\n",
              "      <td>NaN</td>\n",
              "      <td>Mansois</td>\n",
              "      <td>Lionel Osmin &amp; Cie</td>\n",
              "    </tr>\n",
              "    <tr>\n",
              "      <th>19996</th>\n",
              "      <td>US</td>\n",
              "      <td>The vineyard is on the Napa side of Carneros. ...</td>\n",
              "      <td>Estate Vineyard</td>\n",
              "      <td>89</td>\n",
              "      <td>50.0</td>\n",
              "      <td>California</td>\n",
              "      <td>Carneros</td>\n",
              "      <td>Napa-Sonoma</td>\n",
              "      <td>Pinot Noir</td>\n",
              "      <td>Bouchaine</td>\n",
              "    </tr>\n",
              "    <tr>\n",
              "      <th>19997</th>\n",
              "      <td>Italy</td>\n",
              "      <td>Lighea is a terrific wine and an excellent pai...</td>\n",
              "      <td>Lighea</td>\n",
              "      <td>87</td>\n",
              "      <td>20.0</td>\n",
              "      <td>Sicily &amp; Sardinia</td>\n",
              "      <td>Sicilia</td>\n",
              "      <td>NaN</td>\n",
              "      <td>Zibibbo</td>\n",
              "      <td>Donnafugata</td>\n",
              "    </tr>\n",
              "    <tr>\n",
              "      <th>19998</th>\n",
              "      <td>Italy</td>\n",
              "      <td>Organically farmed Cannonau grapes deliver sma...</td>\n",
              "      <td>Le Sabbie</td>\n",
              "      <td>87</td>\n",
              "      <td>NaN</td>\n",
              "      <td>Sicily &amp; Sardinia</td>\n",
              "      <td>Cannonau di Sardegna</td>\n",
              "      <td>NaN</td>\n",
              "      <td>Cannonau</td>\n",
              "      <td>Meloni</td>\n",
              "    </tr>\n",
              "    <tr>\n",
              "      <th>19999</th>\n",
              "      <td>US</td>\n",
              "      <td>Grown on the Sonoma side of the appellation, i...</td>\n",
              "      <td>NaN</td>\n",
              "      <td>92</td>\n",
              "      <td>35.0</td>\n",
              "      <td>California</td>\n",
              "      <td>Carneros</td>\n",
              "      <td>Napa-Sonoma</td>\n",
              "      <td>Syrah</td>\n",
              "      <td>Saintsbury</td>\n",
              "    </tr>\n",
              "  </tbody>\n",
              "</table>\n",
              "<p>20000 rows × 10 columns</p>\n",
              "</div>"
            ],
            "text/plain": [
              "      country                                        description  \\\n",
              "0          US  With a delicate, silky mouthfeel and bright ac...   \n",
              "1       Italy  D'Alceo is a drop dead gorgeous wine that ooze...   \n",
              "2      France  The great dominance of Cabernet Sauvignon in t...   \n",
              "3       Italy  The modest cherry, dark berry and black tea no...   \n",
              "4          US  Exceedingly light in color, scent and flavor, ...   \n",
              "...       ...                                                ...   \n",
              "19995  France  Firm wine, with tannins to match the chunky st...   \n",
              "19996      US  The vineyard is on the Napa side of Carneros. ...   \n",
              "19997   Italy  Lighea is a terrific wine and an excellent pai...   \n",
              "19998   Italy  Organically farmed Cannonau grapes deliver sma...   \n",
              "19999      US  Grown on the Sonoma side of the appellation, i...   \n",
              "\n",
              "           designation  points  price           province  \\\n",
              "0                  NaN      86   23.0         California   \n",
              "1              D'Alceo      96  275.0            Tuscany   \n",
              "2                  NaN      91   40.0           Bordeaux   \n",
              "3                  NaN      81   15.0            Tuscany   \n",
              "4                  NaN      83   25.0             Oregon   \n",
              "...                ...     ...    ...                ...   \n",
              "19995          Mansois      88   12.0   Southwest France   \n",
              "19996  Estate Vineyard      89   50.0         California   \n",
              "19997           Lighea      87   20.0  Sicily & Sardinia   \n",
              "19998        Le Sabbie      87    NaN  Sicily & Sardinia   \n",
              "19999              NaN      92   35.0         California   \n",
              "\n",
              "                   region_1         region_2                   variety  \\\n",
              "0             Central Coast    Central Coast                Pinot Noir   \n",
              "1                   Toscana              NaN                 Red Blend   \n",
              "2                Haut-Médoc              NaN  Bordeaux-style Red Blend   \n",
              "3          Chianti Classico              NaN                Sangiovese   \n",
              "4              Rogue Valley  Southern Oregon                Pinot Noir   \n",
              "...                     ...              ...                       ...   \n",
              "19995             Marcillac              NaN                   Mansois   \n",
              "19996              Carneros      Napa-Sonoma                Pinot Noir   \n",
              "19997               Sicilia              NaN                   Zibibbo   \n",
              "19998  Cannonau di Sardegna              NaN                  Cannonau   \n",
              "19999              Carneros      Napa-Sonoma                     Syrah   \n",
              "\n",
              "                      winery  \n",
              "0            MacMurray Ranch  \n",
              "1      Castello dei Rampolla  \n",
              "2         Château Bernadotte  \n",
              "3                    Valiano  \n",
              "4                 Deer Creek  \n",
              "...                      ...  \n",
              "19995     Lionel Osmin & Cie  \n",
              "19996              Bouchaine  \n",
              "19997            Donnafugata  \n",
              "19998                 Meloni  \n",
              "19999             Saintsbury  \n",
              "\n",
              "[20000 rows x 10 columns]"
            ]
          },
          "execution_count": 3,
          "metadata": {},
          "output_type": "execute_result"
        }
      ],
      "source": [
        "df = pd.read_csv('wine_reviews.csv')\n",
        "df"
      ]
    },
    {
      "cell_type": "code",
      "execution_count": null,
      "metadata": {
        "id": "CotG2vRutrHO",
        "outputId": "51a5a4a2-1b61-4e8d-933b-34ba1ae3c4fd"
      },
      "outputs": [
        {
          "name": "stdout",
          "output_type": "stream",
          "text": [
            "<class 'pandas.core.frame.DataFrame'>\n",
            "RangeIndex: 20000 entries, 0 to 19999\n",
            "Data columns (total 10 columns):\n",
            " #   Column       Non-Null Count  Dtype  \n",
            "---  ------       --------------  -----  \n",
            " 0   country      20000 non-null  object \n",
            " 1   description  20000 non-null  object \n",
            " 2   designation  13999 non-null  object \n",
            " 3   points       20000 non-null  int64  \n",
            " 4   price        18198 non-null  float64\n",
            " 5   province     20000 non-null  object \n",
            " 6   region_1     16543 non-null  object \n",
            " 7   region_2     8058 non-null   object \n",
            " 8   variety      20000 non-null  object \n",
            " 9   winery       20000 non-null  object \n",
            "dtypes: float64(1), int64(1), object(8)\n",
            "memory usage: 1.5+ MB\n"
          ]
        }
      ],
      "source": [
        "df.info()"
      ]
    },
    {
      "cell_type": "markdown",
      "metadata": {
        "id": "RFijfYOYtrHP"
      },
      "source": [
        "Количество значений в столбцах различается. Это говорит о том, что в данных есть пустые значения. Признак points и price числовые. С помощью библиотеки seaborn построим тепловую карту для визуализации данных."
      ]
    },
    {
      "cell_type": "code",
      "execution_count": null,
      "metadata": {
        "id": "p8VjJhx-trHQ",
        "outputId": "752fe9f5-882f-4578-a12f-0b018158dbb1"
      },
      "outputs": [
        {
          "data": {
            "image/png": "[encoded data removed]",
            "text/plain": [
              "<Figure size 432x288 with 2 Axes>"
            ]
          },
          "metadata": {
            "needs_background": "light"
          },
          "output_type": "display_data"
        }
      ],
      "source": [
        "colours = ['#993366', '#FFFF00']\n",
        "sns.heatmap(df.isnull(), cmap=sns.color_palette(colours))\n",
        "# Decorations\n",
        "plt.title('Матрица пропущенных значений набора данных', fontsize=14)\n",
        "plt.xticks(fontsize=12)\n",
        "plt.yticks(fontsize=12)\n",
        "plt.figtext(0.5, -0.2, \"Рисунок 1. - Матрица пропущенных значений набора данных\")\n",
        "plt.show()"
      ]
    },
    {
      "cell_type": "code",
      "execution_count": null,
      "metadata": {
        "id": "8OENAEZItrHR"
      },
      "outputs": [],
      "source": []
    },
    {
      "cell_type": "markdown",
      "metadata": {
        "id": "4ZJoUfittrHR"
      },
      "source": [
        "#  <a name=\"2\"> 2. Исследовательский анализ данных</a>\n"
      ]
    },
    {
      "cell_type": "markdown",
      "metadata": {
        "id": "WdxVIJ0rdQLY"
      },
      "source": [
        "Создаем колонку с цветом"
      ]
    },
    {
      "cell_type": "code",
      "execution_count": 7,
      "metadata": {
        "id": "3qneeCuAdNeX"
      },
      "outputs": [
        {
          "data": {
            "text/html": [
              "<div>\n",
              "<style scoped>\n",
              "    .dataframe tbody tr th:only-of-type {\n",
              "        vertical-align: middle;\n",
              "    }\n",
              "\n",
              "    .dataframe tbody tr th {\n",
              "        vertical-align: top;\n",
              "    }\n",
              "\n",
              "    .dataframe thead th {\n",
              "        text-align: right;\n",
              "    }\n",
              "</style>\n",
              "<table border=\"1\" class=\"dataframe\">\n",
              "  <thead>\n",
              "    <tr style=\"text-align: right;\">\n",
              "      <th></th>\n",
              "      <th>country</th>\n",
              "      <th>description</th>\n",
              "      <th>designation</th>\n",
              "      <th>points</th>\n",
              "      <th>price</th>\n",
              "      <th>province</th>\n",
              "      <th>region_1</th>\n",
              "      <th>region_2</th>\n",
              "      <th>variety</th>\n",
              "      <th>winery</th>\n",
              "      <th>continent</th>\n",
              "      <th>color</th>\n",
              "    </tr>\n",
              "  </thead>\n",
              "  <tbody>\n",
              "    <tr>\n",
              "      <th>0</th>\n",
              "      <td>US</td>\n",
              "      <td>With a delicate, silky mouthfeel and bright ac...</td>\n",
              "      <td>NaN</td>\n",
              "      <td>86</td>\n",
              "      <td>23.0</td>\n",
              "      <td>California</td>\n",
              "      <td>Central Coast</td>\n",
              "      <td>Central Coast</td>\n",
              "      <td>Pinot Noir</td>\n",
              "      <td>MacMurray Ranch</td>\n",
              "      <td>North America</td>\n",
              "      <td>red</td>\n",
              "    </tr>\n",
              "    <tr>\n",
              "      <th>1</th>\n",
              "      <td>Italy</td>\n",
              "      <td>D'Alceo is a drop dead gorgeous wine that ooze...</td>\n",
              "      <td>D'Alceo</td>\n",
              "      <td>96</td>\n",
              "      <td>275.0</td>\n",
              "      <td>Tuscany</td>\n",
              "      <td>Toscana</td>\n",
              "      <td>NaN</td>\n",
              "      <td>Red Blend</td>\n",
              "      <td>Castello dei Rampolla</td>\n",
              "      <td>Europe</td>\n",
              "      <td>red</td>\n",
              "    </tr>\n",
              "    <tr>\n",
              "      <th>2</th>\n",
              "      <td>France</td>\n",
              "      <td>The great dominance of Cabernet Sauvignon in t...</td>\n",
              "      <td>NaN</td>\n",
              "      <td>91</td>\n",
              "      <td>40.0</td>\n",
              "      <td>Bordeaux</td>\n",
              "      <td>Haut-Médoc</td>\n",
              "      <td>NaN</td>\n",
              "      <td>Bordeaux-style Red Blend</td>\n",
              "      <td>Château Bernadotte</td>\n",
              "      <td>Europe</td>\n",
              "      <td>red</td>\n",
              "    </tr>\n",
              "    <tr>\n",
              "      <th>3</th>\n",
              "      <td>Italy</td>\n",
              "      <td>The modest cherry, dark berry and black tea no...</td>\n",
              "      <td>NaN</td>\n",
              "      <td>81</td>\n",
              "      <td>15.0</td>\n",
              "      <td>Tuscany</td>\n",
              "      <td>Chianti Classico</td>\n",
              "      <td>NaN</td>\n",
              "      <td>Sangiovese</td>\n",
              "      <td>Valiano</td>\n",
              "      <td>Europe</td>\n",
              "      <td>red</td>\n",
              "    </tr>\n",
              "    <tr>\n",
              "      <th>4</th>\n",
              "      <td>US</td>\n",
              "      <td>Exceedingly light in color, scent and flavor, ...</td>\n",
              "      <td>NaN</td>\n",
              "      <td>83</td>\n",
              "      <td>25.0</td>\n",
              "      <td>Oregon</td>\n",
              "      <td>Rogue Valley</td>\n",
              "      <td>Southern Oregon</td>\n",
              "      <td>Pinot Noir</td>\n",
              "      <td>Deer Creek</td>\n",
              "      <td>North America</td>\n",
              "      <td>red</td>\n",
              "    </tr>\n",
              "  </tbody>\n",
              "</table>\n",
              "</div>"
            ],
            "text/plain": [
              "  country                                        description designation  \\\n",
              "0      US  With a delicate, silky mouthfeel and bright ac...         NaN   \n",
              "1   Italy  D'Alceo is a drop dead gorgeous wine that ooze...     D'Alceo   \n",
              "2  France  The great dominance of Cabernet Sauvignon in t...         NaN   \n",
              "3   Italy  The modest cherry, dark berry and black tea no...         NaN   \n",
              "4      US  Exceedingly light in color, scent and flavor, ...         NaN   \n",
              "\n",
              "   points  price    province          region_1         region_2  \\\n",
              "0      86   23.0  California     Central Coast    Central Coast   \n",
              "1      96  275.0     Tuscany           Toscana              NaN   \n",
              "2      91   40.0    Bordeaux        Haut-Médoc              NaN   \n",
              "3      81   15.0     Tuscany  Chianti Classico              NaN   \n",
              "4      83   25.0      Oregon      Rogue Valley  Southern Oregon   \n",
              "\n",
              "                    variety                 winery      continent color  \n",
              "0                Pinot Noir        MacMurray Ranch  North America   red  \n",
              "1                 Red Blend  Castello dei Rampolla         Europe   red  \n",
              "2  Bordeaux-style Red Blend     Château Bernadotte         Europe   red  \n",
              "3                Sangiovese                Valiano         Europe   red  \n",
              "4                Pinot Noir             Deer Creek  North America   red  "
            ]
          },
          "execution_count": 7,
          "metadata": {},
          "output_type": "execute_result"
        }
      ],
      "source": [
        "color = {\n",
        "\"Chardonnay\": \"white\",\n",
        "\"Pinot Noir\": \"red\",\n",
        "\"Cabernet Sauvignon\": \"red\",\n",
        "\"Red Blend\": \"red\",\n",
        "\"Bordeaux-style Red Blend\": \"red\",\n",
        "\"Sauvignon Blanc\": \"white\",\n",
        "\"Syrah\": \"red\",\n",
        "\"Riesling\": \"white\",\n",
        "\"Merlot\": \"red\",\n",
        "\"Zinfandel\": \"red\",\n",
        "\"Sangiovese\": \"red\",\n",
        "\"Malbec\": \"red\",\n",
        "\"White Blend\": \"white\",\n",
        "\"Rosé\": \"other\",\n",
        "\"Tempranillo\": \"red\",\n",
        "\"Nebbiolo\": \"red\",\n",
        "\"Portuguese Red\": \"red\",\n",
        "\"Sparkling Blend\": \"other\",\n",
        "\"Shiraz\": \"red\",\n",
        "\"Corvina, Rondinella, Molinara\": \"red\",\n",
        "\"Rhône-style Red Blend\": \"red\",\n",
        "\"Barbera\": \"red\",\n",
        "\"Pinot Gris\": \"white\",\n",
        "\"Viognier\": \"white\",\n",
        "\"Bordeaux-style White Blend\": \"white\",\n",
        "\"Champagne Blend\": \"other\",\n",
        "\"Port\": \"red\",\n",
        "\"Grüner Veltliner\": \"white\",\n",
        "\"Gewürztraminer\": \"white\",\n",
        "\"Portuguese White\": \"white\",\n",
        "\"Petite Sirah\": \"red\",\n",
        "\"Carmenère\": \"red\"\n",
        "}\n",
        "\n",
        "df['color'] = df['variety'].map(color)\n",
        "df.head()"
      ]
    },
    {
      "cell_type": "markdown",
      "metadata": {
        "id": "BVXWgiRDykxJ"
      },
      "source": [
        "Шаг 2.1 - приводим в нижний регистр название полей\n"
      ]
    },
    {
      "cell_type": "markdown",
      "metadata": {
        "id": "RJF4kX2bzHTG"
      },
      "source": [
        "**PS. Названия полей изначально приведены в  нижний регистр**"
      ]
    },
    {
      "cell_type": "code",
      "execution_count": null,
      "metadata": {
        "id": "3UXxW22ntrHS"
      },
      "outputs": [],
      "source": [
        "df.columns= df.columns.str.lower()\n",
        "df.columns"
      ]
    },
    {
      "cell_type": "markdown",
      "metadata": {
        "id": "-87SDkk-yh3I"
      },
      "source": [
        "Шаг 2.2 - преобразуем отдельные поля в отдельные типы данных"
      ]
    },
    {
      "cell_type": "markdown",
      "metadata": {
        "id": "Lig79bsby0QY"
      },
      "source": [
        "Преобразование типов данных не требуется. Но можно заменить в столбце \"points\" - int64 на int8, а также в столбце \"price\" - float64 на float16, для сбережения пространства, потому что числа не выходят за пределы упрощенных типов данных.\n",
        "\n",
        "\n",
        "**В остальных столбцах замена данных по моему мнению не требуется:**\n"
      ]
    },
    {
      "cell_type": "markdown",
      "metadata": {
        "id": "CTn108qazWWf"
      },
      "source": [
        "*   country - Текстовый формат, object - подходит\n",
        "*   description - Текстовый формат, object - подходит\n",
        "*   designation - Текстовый формат, object - подходит\n",
        "*   province - Текстовый формат, object - подходит\n",
        "*   region_1 - Текстовый формат, object - подходит\n",
        "*   region_2 - Текстовый формат, object - подходит\n",
        "*   variety - Текстовый формат, object - подходит\n",
        "*   winery - Текстовый формат, object - подходит\n",
        "*   continent - Текстовый формат, object - подходит\n",
        "*   color - Текстовый формат, object - подходит\n",
        "*   price_buckets - Текстовый формат, object - подходит"
      ]
    },
    {
      "cell_type": "code",
      "execution_count": null,
      "metadata": {
        "id": "xiUlijZ2AN5A"
      },
      "outputs": [],
      "source": [
        "df.loc[:, ['price']] = df.loc[:, ['price']].astype('float16')\n",
        "df.loc[:, ['points']] = df.loc[:, ['points']].astype('int8')"
      ]
    },
    {
      "cell_type": "markdown",
      "metadata": {
        "id": "dJIuOalXy8Tf"
      },
      "source": [
        "Шаг 2.3 - Обработать пропуски при необходимости. (Заполнение пустых по типу \" No x\", где х - parameter)"
      ]
    },
    {
      "cell_type": "code",
      "execution_count": null,
      "metadata": {
        "id": "clBzVYb5yjGN"
      },
      "outputs": [],
      "source": [
        "df.loc[:, 'designation'] = df.loc[:, 'designation'].fillna('No Designation')\n",
        "df.loc[:, 'region_1'] = df.loc[:, 'region_1'].fillna('No Region 1')\n",
        "df.loc[:, 'region_2'] = df.loc[:, 'region_2'].fillna('No Region 2')\n",
        "df.info()"
      ]
    },
    {
      "cell_type": "markdown",
      "metadata": {
        "id": "tgXF08_iA2AM"
      },
      "source": [
        "Шаг 2.4 Объяснить, почему заполнили пропуски определённым образом или почему не стали это делать."
      ]
    },
    {
      "cell_type": "markdown",
      "metadata": {
        "id": "NDaWroVCBEg4"
      },
      "source": [
        "\n",
        "\n",
        "Не стал заполнять пропуски нулевыми значениями, чтобы не исказить выводимые данные и не понижать средние значения. Погрешность счел значимой.\n"
      ]
    },
    {
      "cell_type": "markdown",
      "metadata": {
        "id": "W5ESEMd_A1ux"
      },
      "source": [
        "Шаг 2.5\tОписать причины, которые могли привести к пропускам."
      ]
    },
    {
      "cell_type": "code",
      "execution_count": null,
      "metadata": {
        "id": "iKITUZo_WLPJ"
      },
      "outputs": [],
      "source": [
        "df.isnull().sum()"
      ]
    },
    {
      "cell_type": "markdown",
      "metadata": {
        "id": "gDjZ_DSNTNDi"
      },
      "source": [
        "В нашей таблице df.info показало отсутствующие значения в столбцах \"designation\", \"price\", \"region_1\", \"region_2\".\n",
        "\n",
        "\n",
        "**По количеству пробелов \"параметр\"(кол-во не заполненых):**\n",
        "\n",
        "\n",
        "*   \"region_2\"(11942) - \n",
        "\n",
        "частая проблема нормализации, n-ные параметры часто просто не заполняют производители, по принципу и так сойдет. поэтому это параметр с самой большой просадкой по информации.\n",
        "\n",
        "\n",
        "*   \"designation\"(6001) - \n",
        "\n",
        "обозначение виноградника происхождения, может отсутствовать ввиду нескольких причин: молодой виноградник без репутации, виноградник малого типа, банальное не уточнение производителем информации, пром. производство.\n",
        "\n",
        "\n",
        "*   \"region_1\"(3457) - \n",
        "\n",
        "у дистрибьюторов могла быть не указана информация.\n",
        "\n",
        "\n",
        "*   \"price\"(1802) - \n",
        "\n",
        "цену могли не передать исследователи или магазины. Возможно товар редкий или не было в наличии в момент сбора данных.\n"
      ]
    },
    {
      "cell_type": "markdown",
      "metadata": {
        "id": "lFs7do-dAtWm"
      },
      "source": [
        "Шаг 2.6 - посчитать среднюю цену для каждый страны"
      ]
    },
    {
      "cell_type": "code",
      "execution_count": null,
      "metadata": {
        "id": "rDNm5kORTibe"
      },
      "outputs": [],
      "source": [
        "df_avg_price = df.groupby(['country'], as_index=False)['price'].mean()\n",
        "df_avg_price"
      ]
    },
    {
      "cell_type": "markdown",
      "metadata": {
        "id": "yR-gbJy2TxWm"
      },
      "source": [
        "Шаг 2.7 Внести новый столбец \"Континенты\""
      ]
    },
    {
      "cell_type": "code",
      "execution_count": 6,
      "metadata": {
        "id": "4cllDZqrT0hE"
      },
      "outputs": [
        {
          "data": {
            "text/html": [
              "<div>\n",
              "<style scoped>\n",
              "    .dataframe tbody tr th:only-of-type {\n",
              "        vertical-align: middle;\n",
              "    }\n",
              "\n",
              "    .dataframe tbody tr th {\n",
              "        vertical-align: top;\n",
              "    }\n",
              "\n",
              "    .dataframe thead th {\n",
              "        text-align: right;\n",
              "    }\n",
              "</style>\n",
              "<table border=\"1\" class=\"dataframe\">\n",
              "  <thead>\n",
              "    <tr style=\"text-align: right;\">\n",
              "      <th></th>\n",
              "      <th>country</th>\n",
              "      <th>description</th>\n",
              "      <th>designation</th>\n",
              "      <th>points</th>\n",
              "      <th>price</th>\n",
              "      <th>province</th>\n",
              "      <th>region_1</th>\n",
              "      <th>region_2</th>\n",
              "      <th>variety</th>\n",
              "      <th>winery</th>\n",
              "      <th>continent</th>\n",
              "    </tr>\n",
              "  </thead>\n",
              "  <tbody>\n",
              "    <tr>\n",
              "      <th>0</th>\n",
              "      <td>US</td>\n",
              "      <td>With a delicate, silky mouthfeel and bright ac...</td>\n",
              "      <td>NaN</td>\n",
              "      <td>86</td>\n",
              "      <td>23.0</td>\n",
              "      <td>California</td>\n",
              "      <td>Central Coast</td>\n",
              "      <td>Central Coast</td>\n",
              "      <td>Pinot Noir</td>\n",
              "      <td>MacMurray Ranch</td>\n",
              "      <td>North America</td>\n",
              "    </tr>\n",
              "    <tr>\n",
              "      <th>1</th>\n",
              "      <td>Italy</td>\n",
              "      <td>D'Alceo is a drop dead gorgeous wine that ooze...</td>\n",
              "      <td>D'Alceo</td>\n",
              "      <td>96</td>\n",
              "      <td>275.0</td>\n",
              "      <td>Tuscany</td>\n",
              "      <td>Toscana</td>\n",
              "      <td>NaN</td>\n",
              "      <td>Red Blend</td>\n",
              "      <td>Castello dei Rampolla</td>\n",
              "      <td>Europe</td>\n",
              "    </tr>\n",
              "    <tr>\n",
              "      <th>2</th>\n",
              "      <td>France</td>\n",
              "      <td>The great dominance of Cabernet Sauvignon in t...</td>\n",
              "      <td>NaN</td>\n",
              "      <td>91</td>\n",
              "      <td>40.0</td>\n",
              "      <td>Bordeaux</td>\n",
              "      <td>Haut-Médoc</td>\n",
              "      <td>NaN</td>\n",
              "      <td>Bordeaux-style Red Blend</td>\n",
              "      <td>Château Bernadotte</td>\n",
              "      <td>Europe</td>\n",
              "    </tr>\n",
              "    <tr>\n",
              "      <th>3</th>\n",
              "      <td>Italy</td>\n",
              "      <td>The modest cherry, dark berry and black tea no...</td>\n",
              "      <td>NaN</td>\n",
              "      <td>81</td>\n",
              "      <td>15.0</td>\n",
              "      <td>Tuscany</td>\n",
              "      <td>Chianti Classico</td>\n",
              "      <td>NaN</td>\n",
              "      <td>Sangiovese</td>\n",
              "      <td>Valiano</td>\n",
              "      <td>Europe</td>\n",
              "    </tr>\n",
              "    <tr>\n",
              "      <th>4</th>\n",
              "      <td>US</td>\n",
              "      <td>Exceedingly light in color, scent and flavor, ...</td>\n",
              "      <td>NaN</td>\n",
              "      <td>83</td>\n",
              "      <td>25.0</td>\n",
              "      <td>Oregon</td>\n",
              "      <td>Rogue Valley</td>\n",
              "      <td>Southern Oregon</td>\n",
              "      <td>Pinot Noir</td>\n",
              "      <td>Deer Creek</td>\n",
              "      <td>North America</td>\n",
              "    </tr>\n",
              "  </tbody>\n",
              "</table>\n",
              "</div>"
            ],
            "text/plain": [
              "  country                                        description designation  \\\n",
              "0      US  With a delicate, silky mouthfeel and bright ac...         NaN   \n",
              "1   Italy  D'Alceo is a drop dead gorgeous wine that ooze...     D'Alceo   \n",
              "2  France  The great dominance of Cabernet Sauvignon in t...         NaN   \n",
              "3   Italy  The modest cherry, dark berry and black tea no...         NaN   \n",
              "4      US  Exceedingly light in color, scent and flavor, ...         NaN   \n",
              "\n",
              "   points  price    province          region_1         region_2  \\\n",
              "0      86   23.0  California     Central Coast    Central Coast   \n",
              "1      96  275.0     Tuscany           Toscana              NaN   \n",
              "2      91   40.0    Bordeaux        Haut-Médoc              NaN   \n",
              "3      81   15.0     Tuscany  Chianti Classico              NaN   \n",
              "4      83   25.0      Oregon      Rogue Valley  Southern Oregon   \n",
              "\n",
              "                    variety                 winery      continent  \n",
              "0                Pinot Noir        MacMurray Ranch  North America  \n",
              "1                 Red Blend  Castello dei Rampolla         Europe  \n",
              "2  Bordeaux-style Red Blend     Château Bernadotte         Europe  \n",
              "3                Sangiovese                Valiano         Europe  \n",
              "4                Pinot Noir             Deer Creek  North America  "
            ]
          },
          "execution_count": 6,
          "metadata": {},
          "output_type": "execute_result"
        }
      ],
      "source": [
        "countries_to_continents = {\n",
        "    'Italy':'Europe',\n",
        "    'Portugal':'Europe',\n",
        "    'US':'North America',\n",
        "    'Spain':'Europe',\n",
        "    'France':'Europe',\n",
        "    'Germany':'Europe',\n",
        "    'Argentina':'Latin America',\n",
        "    'Chile':'Latin America',\n",
        "    'Australia': 'Oceania',\n",
        "    'Austria': 'Europe',\n",
        "    'South Africa': 'Africa',\n",
        "    'New Zealand': 'Oceania',\n",
        "    'Israel': 'Asia',\n",
        "    'Hungary':'Europe',\n",
        "    'Greece':'Europe',\n",
        "    'Romania':'Europe',\n",
        "    'Mexico':'Latin America',\n",
        "    'Canada':'North America',\n",
        "    'Turkey': 'Asia',\n",
        "    'Czech Republic': 'Europe',\n",
        "    'Slovenia': 'Europe',\n",
        "    'Luxembourg': 'Europe',\n",
        "    'Croatia': 'Europe',\n",
        "    'Georgia':'Europe',\n",
        "    'Uruguay': 'Latin America',\n",
        "    'England': 'Europe',\n",
        "    'Lebanon': 'Asia',\n",
        "    'Serbia': 'Europe',\n",
        "    'Brazil': 'Latin America',\n",
        "    'Moldova': 'Europe',\n",
        "    'Morocco':'Africa',\n",
        "    'Peru':'Latin America',\n",
        "    'India':'Asia',\n",
        "    'Bulgaria':'Europe',\n",
        "    'Cyprus': 'Europe',\n",
        "    'Armenia':'Asia',\n",
        "    'Switzerland':'Europe',\n",
        "    'Bosnia and Herzegovina':'Europe',\n",
        "    'Ukraine':'Europe',\n",
        "    'Slovakia':'Europe',\n",
        "    'Macedonia':'Europe',\n",
        "    'China':'Asia',\n",
        "    'Egypt':'Africa'\n",
        "}\n",
        "\n",
        "df['continent'] = df['country'].map(countries_to_continents)\n",
        "df.head()"
      ]
    },
    {
      "cell_type": "markdown",
      "metadata": {
        "id": "lW3k9ifltrHS"
      },
      "source": [
        "#  <a name=\"3\">3. Портрет пользователя</a>"
      ]
    },
    {
      "cell_type": "markdown",
      "metadata": {
        "id": "XZbL7PRueCPR"
      },
      "source": [
        "Шаг 3.1 Определить, какие сорта лидируют по рейтингам. Найти популярные сорта по региону."
      ]
    },
    {
      "cell_type": "markdown",
      "metadata": {
        "id": "uZkJeLOAkNFI"
      },
      "source": [
        "Определяем, какие сорта лидируют по рейтингам:"
      ]
    },
    {
      "cell_type": "code",
      "execution_count": null,
      "metadata": {
        "id": "viI6VVKCtrHT"
      },
      "outputs": [],
      "source": [
        "df_leading_variety_total = df.groupby('variety', as_index=False)['points'].mean()\n",
        "df_leading_variety_total.sort_values('points', ascending=False, inplace=True)\n",
        "df_leading_variety_total.reset_index(inplace=True, drop=True)\n",
        "df_leading_variety_total.head(10)"
      ]
    },
    {
      "cell_type": "markdown",
      "metadata": {
        "id": "bTOmzPr3kld8"
      },
      "source": [
        "Находим популярные сорта по региону."
      ]
    },
    {
      "cell_type": "code",
      "execution_count": null,
      "metadata": {
        "id": "ThvhhswNWhQs"
      },
      "outputs": [],
      "source": [
        "df_leading_variety_total = df.groupby(['region_1', 'variety'], as_index=False)['points'].mean()\n",
        "df_leading_variety_total.sort_values(['region_1', 'points'], ascending=[True, False], inplace=True)\n",
        "df_leading_variety_total.reset_index(inplace=True, drop=True)\n",
        "df_leading_variety_total.head(10)"
      ]
    },
    {
      "cell_type": "markdown",
      "metadata": {
        "id": "gmYTr2EXlXcX"
      },
      "source": [
        "Шаг 3.2 Выбрать сорта с наибольшими ценами. Для каждого региона найдите среднюю цену вина."
      ]
    },
    {
      "cell_type": "markdown",
      "metadata": {
        "id": "hyvowPibluLz"
      },
      "source": [
        "Выбираем среднюю цену сорта с наибольшими ценами"
      ]
    },
    {
      "cell_type": "code",
      "execution_count": null,
      "metadata": {
        "id": "D2rEGEOtlzmo"
      },
      "outputs": [],
      "source": [
        "df_leading_variety_total = df.groupby('variety', as_index=False)['price'].mean()\n",
        "df_leading_variety_total.sort_values('price', ascending=False, inplace=True)\n",
        "df_leading_variety_total.reset_index(inplace=True, drop=True)\n",
        "df_leading_variety_total.head(10)"
      ]
    },
    {
      "cell_type": "markdown",
      "metadata": {
        "id": "BEKGIZdfkz7H"
      },
      "source": [
        "Для каждого региона найдите среднюю цену вина. входит в 1/3 квантиля."
      ]
    },
    {
      "cell_type": "code",
      "execution_count": null,
      "metadata": {
        "id": "pqIP9BYxWkns"
      },
      "outputs": [],
      "source": [
        "print(df['price'].quantile(.33), df['price'].quantile(.66))\n",
        "\n",
        "sns.distplot(df.loc[df['price'] < 200, 'price'], hist=True, kde=False)\n",
        "#kernel density estimation = False - убираем линию анализа\n",
        "\n",
        "plt.figtext(0.13, -0.05, \"Рисунок 2. Кол-во вин по цене, с огр. 200у.е.\",fontsize=14 );"
      ]
    },
    {
      "cell_type": "markdown",
      "metadata": {
        "id": "hsEAjybceVMa"
      },
      "source": [
        "Шаг 3.3 Определить, популярные сорта вина в бюджетном сегменте.\n"
      ]
    },
    {
      "cell_type": "markdown",
      "metadata": {
        "id": "4Tq6GfqwmvaM"
      },
      "source": [
        "выводим бюджетный сегмент"
      ]
    },
    {
      "cell_type": "code",
      "execution_count": null,
      "metadata": {
        "id": "C1jc0oOhWmlz"
      },
      "outputs": [],
      "source": [
        "df_budget = df.loc[df['price'] <= 18.0, :]\n",
        "df_budget.head()"
      ]
    },
    {
      "cell_type": "markdown",
      "metadata": {
        "id": "0R4GPi_fm1AF"
      },
      "source": [
        "популярные сорта вина в бюджетном сегменте:"
      ]
    },
    {
      "cell_type": "code",
      "execution_count": null,
      "metadata": {
        "id": "hWVtpP2gWoMW"
      },
      "outputs": [],
      "source": [
        "df_leading_variety_budget = df_budget.groupby('variety', as_index=False)['points'].mean()\n",
        "df_leading_variety_budget.sort_values('points', ascending=False, inplace=True)\n",
        "df_leading_variety_budget.reset_index(inplace=True, drop=True)\n",
        "df_leading_variety_budget.head(10)"
      ]
    },
    {
      "cell_type": "markdown",
      "metadata": {
        "id": "TKXU_j-FnCyp"
      },
      "source": [
        "Шаг 3.4 Определить, какие сорта вина лидируют по рейтингам."
      ]
    },
    {
      "cell_type": "markdown",
      "metadata": {
        "id": "0BGs871NnIAs"
      },
      "source": [
        "дублирован шаг 3.1:"
      ]
    },
    {
      "cell_type": "code",
      "execution_count": null,
      "metadata": {
        "id": "yzb83J8_nD25"
      },
      "outputs": [],
      "source": [
        "df_leading_variety_total = df.groupby('variety', as_index=False)['points'].mean()\n",
        "df_leading_variety_total.sort_values('points', ascending=False, inplace=True)\n",
        "df_leading_variety_total.reset_index(inplace=True, drop=True)\n",
        "df_leading_variety_total.head(10)"
      ]
    },
    {
      "cell_type": "markdown",
      "metadata": {
        "id": "gJVeBloqnULt"
      },
      "source": [
        "Шаг 3.5 Построить график «ящик с усами» по рейтингам в разбивке по странам, по сортам вина"
      ]
    },
    {
      "cell_type": "code",
      "execution_count": null,
      "metadata": {
        "id": "OOTDhFMhncvo"
      },
      "outputs": [],
      "source": [
        "print(\"Нажмите чтобы увеличить:\")\n",
        "df.boxplot('points', by='country',figsize=(55,5))\n",
        "plt.figtext(0.43, -0.05, \"Рисунок 3. \"\"Ящик с усами\"\" по странам\",fontsize=27 );"
      ]
    },
    {
      "cell_type": "markdown",
      "metadata": {
        "id": "N84HFB6woBef"
      },
      "source": [
        "с помощью seaborn:"
      ]
    },
    {
      "cell_type": "code",
      "execution_count": null,
      "metadata": {
        "id": "ImM75YCGWrqF"
      },
      "outputs": [],
      "source": [
        "sns.boxplot(data=df, x=\"points\", y=\"country\")\n",
        "plt.figtext(0.13, -0.05, \"Рисунок 4. \"\"Ящик с усами\"\" по странам с исп. Seaborn\",fontsize=14 );"
      ]
    },
    {
      "cell_type": "markdown",
      "metadata": {
        "id": "SgNSwcWooF35"
      },
      "source": [
        "с помощью seaborn и разделением по каждой стране, по 3 в строке:"
      ]
    },
    {
      "cell_type": "code",
      "execution_count": null,
      "metadata": {
        "id": "U1uJCwZNWs8z"
      },
      "outputs": [],
      "source": [
        "sns.set(rc={'figure.figsize':(20,40), 'font.size': 10, 'axes.labelsize': 10, 'legend.fontsize': 10, \n",
        "    'axes.titlesize': 10, 'xtick.labelsize': 10, 'ytick.labelsize': 10})\n",
        "g = sns.FacetGrid(df, col='country', col_wrap=3, sharex = False, sharey = False, aspect = 2)\n",
        "g.map(sns.boxplot, \"points\")\n",
        "# g.set_xticklabels(rotation=65)\n",
        "# g.add_legend()\n",
        "plt.subplots_adjust(hspace=0.5, wspace=0.2)\n",
        "plt.figtext(0.13, -0.05, \"Рисунок 5. \"\"Ящик с усами\"\" по каждой стране с исп. Seaborn\",fontsize=30 );\n",
        "plt.show()"
      ]
    },
    {
      "cell_type": "markdown",
      "metadata": {
        "id": "55bqRvAYiH_B"
      },
      "source": [
        "Шаг 3.6 Выявить закономерность влияния на цену цвета и рейтинга. Построить диаграмму рассеяния и посчитать корреляцию."
      ]
    },
    {
      "cell_type": "code",
      "execution_count": null,
      "metadata": {
        "id": "J8kVY7o3c5_n"
      },
      "outputs": [],
      "source": [
        "sns.set(rc={'figure.figsize':(5,5), 'font.size': 10, 'axes.labelsize': 10, 'legend.fontsize': 10, \n",
        "    'axes.titlesize': 10, 'xtick.labelsize': 10, 'ytick.labelsize': 10})\n",
        "plt.figtext(0.01, -0.05, \"Рисунок 6. Диаграмма рассеяния влияние цены на цвет и рейтинг\",fontsize=10 );\n",
        "sns.regplot(x=\"points\", y=\"price\", data=df)"
      ]
    },
    {
      "cell_type": "code",
      "execution_count": null,
      "metadata": {
        "id": "iPt0POetdhhx"
      },
      "outputs": [],
      "source": [
        "arr = []\n",
        "for i in np.linspace(0, 1, 5):\n",
        "    arr.append(df['price'].quantile(i))\n",
        "    print(i)\n",
        "\n",
        "arr\n",
        "\n",
        "def make_price_buckets(x):\n",
        "    if not x:\n",
        "        return 'no price value'\n",
        "    elif x < 16:\n",
        "        return '0-16'\n",
        "    elif x >= 16 and x < 24:\n",
        "        return '16-24'\n",
        "    elif x >= 24 and x < 40:\n",
        "        return '24-40'\n",
        "    else:\n",
        "        return '40+'\n",
        "\n",
        "df['price_buckets'] = df['price'].apply(make_price_buckets)\n",
        "df.head()"
      ]
    },
    {
      "cell_type": "code",
      "execution_count": null,
      "metadata": {
        "id": "fwycuM7udjTz"
      },
      "outputs": [],
      "source": [
        "df[['color', 'price']].corr(method='pearson')\n",
        "#method='pearson' - стандартный коэфф. корреляции"
      ]
    },
    {
      "cell_type": "markdown",
      "metadata": {
        "id": "P-KwhW42seE3"
      },
      "source": [
        "выводим корреляцию:"
      ]
    },
    {
      "cell_type": "code",
      "execution_count": null,
      "metadata": {
        "id": "oiESgQ8pdoyX"
      },
      "outputs": [],
      "source": [
        "corr = df.corr()\n",
        "corr"
      ]
    },
    {
      "cell_type": "markdown",
      "metadata": {
        "id": "1j0yLOJntrHT"
      },
      "source": [
        "#  <a name=\"4\"> 4. Исследование статистических показателей.</a>"
      ]
    },
    {
      "cell_type": "markdown",
      "metadata": {
        "id": "9T01VIJys2S_"
      },
      "source": [
        "Шаг 4.1 Определить для пользователя каждого континента : Самые популярные сорта (топ-5).\n"
      ]
    },
    {
      "cell_type": "code",
      "execution_count": null,
      "metadata": {
        "id": "y3PRf_KUtrHU"
      },
      "outputs": [],
      "source": [
        "df_leading_variety_continent = df.groupby(['continent', 'variety'], as_index=False)['points'].mean()\n",
        "df_leading_variety_continent.sort_values(['continent', 'points'], ascending=[True, False], inplace=True)\n",
        "df_leading_variety_continent.reset_index(inplace=True, drop=True)\n",
        "df_leading_variety_continent['num'] = 0\n",
        "df_leading_variety_continent.head(10)"
      ]
    },
    {
      "cell_type": "code",
      "execution_count": null,
      "metadata": {
        "id": "YewWIr-Gdv0m"
      },
      "outputs": [],
      "source": [
        "df_leading_variety_continent['num'] = 0\n",
        "\n",
        "for index, row in df_leading_variety_continent.iterrows():\n",
        "    try:\n",
        "        if df_leading_variety_continent.at[index, 'continent'] == df_leading_variety_continent.at[index-1, 'continent']:\n",
        "            df_leading_variety_continent.at[index, 'num'] = df_leading_variety_continent.at[index-1, 'num'] + 1 \n",
        "        else:\n",
        "            df_leading_variety_continent.at[index, 'num'] = 0\n",
        "    except:\n",
        "        df_leading_variety_continent.at[index, 'num'] = 0\n",
        "\n",
        "df_leading_variety_continent_filtered = df_leading_variety_continent[df_leading_variety_continent['num'] <= 4]\n",
        "df_leading_variety_continent_filtered"
      ]
    },
    {
      "cell_type": "code",
      "execution_count": null,
      "metadata": {
        "id": "cG9eMhAqdxd6"
      },
      "outputs": [],
      "source": [
        "sns.set(rc={'figure.figsize':(20,40), 'font.size': 10, 'axes.labelsize': 10, 'legend.fontsize': 10, \n",
        "    'axes.titlesize': 10, 'xtick.labelsize': 10, 'ytick.labelsize': 10})\n",
        "sns.lmplot(data=df, x=\"points\", y=\"price\", col=\"continent\", height=3, col_wrap=3, scatter_kws={\"s\": 5})"
      ]
    },
    {
      "cell_type": "markdown",
      "metadata": {
        "id": "oipT5g_ss9zr"
      },
      "source": [
        "Шаг 4.2 Определить для пользователя каждого континента : \tВлияет ли рейтинг на цены по регионам?"
      ]
    },
    {
      "cell_type": "code",
      "execution_count": 10,
      "metadata": {},
      "outputs": [
        {
          "name": "stderr",
          "output_type": "stream",
          "text": [
            "/var/folders/hf/p_215phd0fn2l5w4md2545sh0000gp/T/ipykernel_5041/194918202.py:3: UserWarning: Boolean Series key will be reindexed to match DataFrame index.\n",
            "  a = df[df.price <= 150][df.points <100]\n"
          ]
        },
        {
          "data": {
            "text/plain": [
              "<seaborn.axisgrid.FacetGrid at 0x292e6cac0>"
            ]
          },
          "execution_count": 10,
          "metadata": {},
          "output_type": "execute_result"
        },
        {
          "data": {
            "text/plain": [
              "<Figure size 1000x500 with 0 Axes>"
            ]
          },
          "metadata": {},
          "output_type": "display_data"
        },
        {
          "data": {
            "image/png": "[encoded data removed]",
            "text/plain": [
              "<Figure size 1000x1500 with 6 Axes>"
            ]
          },
          "metadata": {},
          "output_type": "display_data"
        }
      ],
      "source": [
        "fig = plt.figure(figsize=(10,5))\n",
        "# plt.title('Распределение цены к рейтингу',fontsize=15)\n",
        "a = df[df.price <= 150][df.points <100]\n",
        "# plt.figtext(0.3, 0, \"Рисунок 22. Зависимость рейтинга от цены\",fontsize=15 )\n",
        "sns.catplot(x = 'points', y = 'price', data = a, col='continent', col_wrap=2, kind='box')"
      ]
    },
    {
      "cell_type": "markdown",
      "metadata": {},
      "source": [
        "Выяснили, что есть зависимость среднего рейтинга от средней цены. При увеличении рейтинга растёт и цена. В Латинской Америке самые ниские средние цены и рейтинги, в Европе самые высокие"
      ]
    },
    {
      "cell_type": "markdown",
      "metadata": {
        "id": "a5ro2sC9trHU"
      },
      "source": [
        "#  <a name=\"5\">5. Проверка гипотез </a>"
      ]
    },
    {
      "cell_type": "markdown",
      "metadata": {
        "id": "r8ymvFnQyxy1"
      },
      "source": [
        "Шаг 5.1 Выполнить подсчитать среднего количества, дисперсии и стандартного отклонения для цен на продукт различных регионов. Построить гистограммы. Описать распределения. "
      ]
    },
    {
      "cell_type": "code",
      "execution_count": 19,
      "metadata": {
        "id": "i0DH8QditrHV"
      },
      "outputs": [
        {
          "data": {
            "text/html": [
              "<div>\n",
              "<style scoped>\n",
              "    .dataframe tbody tr th:only-of-type {\n",
              "        vertical-align: middle;\n",
              "    }\n",
              "\n",
              "    .dataframe tbody tr th {\n",
              "        vertical-align: top;\n",
              "    }\n",
              "\n",
              "    .dataframe thead th {\n",
              "        text-align: right;\n",
              "    }\n",
              "</style>\n",
              "<table border=\"1\" class=\"dataframe\">\n",
              "  <thead>\n",
              "    <tr style=\"text-align: right;\">\n",
              "      <th></th>\n",
              "      <th>mean</th>\n",
              "      <th>var</th>\n",
              "      <th>std</th>\n",
              "    </tr>\n",
              "    <tr>\n",
              "      <th>country</th>\n",
              "      <th></th>\n",
              "      <th></th>\n",
              "      <th></th>\n",
              "    </tr>\n",
              "  </thead>\n",
              "  <tbody>\n",
              "    <tr>\n",
              "      <th>Argentina</th>\n",
              "      <td>22.502747</td>\n",
              "      <td>552.949098</td>\n",
              "      <td>23.514870</td>\n",
              "    </tr>\n",
              "    <tr>\n",
              "      <th>Australia</th>\n",
              "      <td>30.607780</td>\n",
              "      <td>1194.722537</td>\n",
              "      <td>34.564759</td>\n",
              "    </tr>\n",
              "    <tr>\n",
              "      <th>Austria</th>\n",
              "      <td>31.691395</td>\n",
              "      <td>3667.636622</td>\n",
              "      <td>60.561016</td>\n",
              "    </tr>\n",
              "    <tr>\n",
              "      <th>Bosnia and Herzegovina</th>\n",
              "      <td>12.000000</td>\n",
              "      <td>NaN</td>\n",
              "      <td>NaN</td>\n",
              "    </tr>\n",
              "    <tr>\n",
              "      <th>Brazil</th>\n",
              "      <td>24.666667</td>\n",
              "      <td>122.333333</td>\n",
              "      <td>11.060440</td>\n",
              "    </tr>\n",
              "    <tr>\n",
              "      <th>Bulgaria</th>\n",
              "      <td>10.600000</td>\n",
              "      <td>22.488889</td>\n",
              "      <td>4.742245</td>\n",
              "    </tr>\n",
              "    <tr>\n",
              "      <th>Canada</th>\n",
              "      <td>45.750000</td>\n",
              "      <td>1207.239130</td>\n",
              "      <td>34.745347</td>\n",
              "    </tr>\n",
              "    <tr>\n",
              "      <th>Chile</th>\n",
              "      <td>19.629677</td>\n",
              "      <td>356.256741</td>\n",
              "      <td>18.874765</td>\n",
              "    </tr>\n",
              "    <tr>\n",
              "      <th>China</th>\n",
              "      <td>27.000000</td>\n",
              "      <td>0.000000</td>\n",
              "      <td>0.000000</td>\n",
              "    </tr>\n",
              "    <tr>\n",
              "      <th>Croatia</th>\n",
              "      <td>21.238095</td>\n",
              "      <td>121.790476</td>\n",
              "      <td>11.035872</td>\n",
              "    </tr>\n",
              "    <tr>\n",
              "      <th>Cyprus</th>\n",
              "      <td>16.666667</td>\n",
              "      <td>7.866667</td>\n",
              "      <td>2.804758</td>\n",
              "    </tr>\n",
              "    <tr>\n",
              "      <th>Egypt</th>\n",
              "      <td>NaN</td>\n",
              "      <td>NaN</td>\n",
              "      <td>NaN</td>\n",
              "    </tr>\n",
              "    <tr>\n",
              "      <th>France</th>\n",
              "      <td>46.297564</td>\n",
              "      <td>7058.925933</td>\n",
              "      <td>84.017414</td>\n",
              "    </tr>\n",
              "    <tr>\n",
              "      <th>Georgia</th>\n",
              "      <td>16.000000</td>\n",
              "      <td>28.400000</td>\n",
              "      <td>5.329165</td>\n",
              "    </tr>\n",
              "    <tr>\n",
              "      <th>Germany</th>\n",
              "      <td>35.609065</td>\n",
              "      <td>1587.619463</td>\n",
              "      <td>39.844943</td>\n",
              "    </tr>\n",
              "    <tr>\n",
              "      <th>Greece</th>\n",
              "      <td>20.918182</td>\n",
              "      <td>99.653795</td>\n",
              "      <td>9.982675</td>\n",
              "    </tr>\n",
              "    <tr>\n",
              "      <th>Hungary</th>\n",
              "      <td>60.911765</td>\n",
              "      <td>16317.719251</td>\n",
              "      <td>127.740828</td>\n",
              "    </tr>\n",
              "    <tr>\n",
              "      <th>Israel</th>\n",
              "      <td>31.720930</td>\n",
              "      <td>318.062380</td>\n",
              "      <td>17.834303</td>\n",
              "    </tr>\n",
              "    <tr>\n",
              "      <th>Italy</th>\n",
              "      <td>37.177184</td>\n",
              "      <td>1449.191580</td>\n",
              "      <td>38.068249</td>\n",
              "    </tr>\n",
              "    <tr>\n",
              "      <th>Lebanon</th>\n",
              "      <td>32.500000</td>\n",
              "      <td>241.000000</td>\n",
              "      <td>15.524175</td>\n",
              "    </tr>\n",
              "    <tr>\n",
              "      <th>Luxembourg</th>\n",
              "      <td>36.000000</td>\n",
              "      <td>NaN</td>\n",
              "      <td>NaN</td>\n",
              "    </tr>\n",
              "    <tr>\n",
              "      <th>Mexico</th>\n",
              "      <td>25.571429</td>\n",
              "      <td>58.263736</td>\n",
              "      <td>7.633069</td>\n",
              "    </tr>\n",
              "    <tr>\n",
              "      <th>Moldova</th>\n",
              "      <td>15.062500</td>\n",
              "      <td>87.262500</td>\n",
              "      <td>9.341440</td>\n",
              "    </tr>\n",
              "    <tr>\n",
              "      <th>Montenegro</th>\n",
              "      <td>10.000000</td>\n",
              "      <td>NaN</td>\n",
              "      <td>NaN</td>\n",
              "    </tr>\n",
              "    <tr>\n",
              "      <th>New Zealand</th>\n",
              "      <td>24.553957</td>\n",
              "      <td>211.810183</td>\n",
              "      <td>14.553700</td>\n",
              "    </tr>\n",
              "    <tr>\n",
              "      <th>Portugal</th>\n",
              "      <td>27.699160</td>\n",
              "      <td>1077.911026</td>\n",
              "      <td>32.831555</td>\n",
              "    </tr>\n",
              "    <tr>\n",
              "      <th>Romania</th>\n",
              "      <td>12.500000</td>\n",
              "      <td>32.147059</td>\n",
              "      <td>5.669838</td>\n",
              "    </tr>\n",
              "    <tr>\n",
              "      <th>Serbia</th>\n",
              "      <td>16.500000</td>\n",
              "      <td>4.500000</td>\n",
              "      <td>2.121320</td>\n",
              "    </tr>\n",
              "    <tr>\n",
              "      <th>Slovenia</th>\n",
              "      <td>24.416667</td>\n",
              "      <td>97.537879</td>\n",
              "      <td>9.876127</td>\n",
              "    </tr>\n",
              "    <tr>\n",
              "      <th>South Africa</th>\n",
              "      <td>21.392027</td>\n",
              "      <td>186.552470</td>\n",
              "      <td>13.658421</td>\n",
              "    </tr>\n",
              "    <tr>\n",
              "      <th>South Korea</th>\n",
              "      <td>11.000000</td>\n",
              "      <td>NaN</td>\n",
              "      <td>NaN</td>\n",
              "    </tr>\n",
              "    <tr>\n",
              "      <th>Spain</th>\n",
              "      <td>27.939479</td>\n",
              "      <td>1559.823920</td>\n",
              "      <td>39.494606</td>\n",
              "    </tr>\n",
              "    <tr>\n",
              "      <th>Switzerland</th>\n",
              "      <td>19.000000</td>\n",
              "      <td>NaN</td>\n",
              "      <td>NaN</td>\n",
              "    </tr>\n",
              "    <tr>\n",
              "      <th>Turkey</th>\n",
              "      <td>28.909091</td>\n",
              "      <td>923.690909</td>\n",
              "      <td>30.392284</td>\n",
              "    </tr>\n",
              "    <tr>\n",
              "      <th>US</th>\n",
              "      <td>33.537346</td>\n",
              "      <td>539.475055</td>\n",
              "      <td>23.226602</td>\n",
              "    </tr>\n",
              "    <tr>\n",
              "      <th>US-France</th>\n",
              "      <td>50.000000</td>\n",
              "      <td>NaN</td>\n",
              "      <td>NaN</td>\n",
              "    </tr>\n",
              "    <tr>\n",
              "      <th>Ukraine</th>\n",
              "      <td>13.000000</td>\n",
              "      <td>NaN</td>\n",
              "      <td>NaN</td>\n",
              "    </tr>\n",
              "    <tr>\n",
              "      <th>Uruguay</th>\n",
              "      <td>18.428571</td>\n",
              "      <td>46.952381</td>\n",
              "      <td>6.852181</td>\n",
              "    </tr>\n",
              "  </tbody>\n",
              "</table>\n",
              "</div>"
            ],
            "text/plain": [
              "                             mean           var         std\n",
              "country                                                    \n",
              "Argentina               22.502747    552.949098   23.514870\n",
              "Australia               30.607780   1194.722537   34.564759\n",
              "Austria                 31.691395   3667.636622   60.561016\n",
              "Bosnia and Herzegovina  12.000000           NaN         NaN\n",
              "Brazil                  24.666667    122.333333   11.060440\n",
              "Bulgaria                10.600000     22.488889    4.742245\n",
              "Canada                  45.750000   1207.239130   34.745347\n",
              "Chile                   19.629677    356.256741   18.874765\n",
              "China                   27.000000      0.000000    0.000000\n",
              "Croatia                 21.238095    121.790476   11.035872\n",
              "Cyprus                  16.666667      7.866667    2.804758\n",
              "Egypt                         NaN           NaN         NaN\n",
              "France                  46.297564   7058.925933   84.017414\n",
              "Georgia                 16.000000     28.400000    5.329165\n",
              "Germany                 35.609065   1587.619463   39.844943\n",
              "Greece                  20.918182     99.653795    9.982675\n",
              "Hungary                 60.911765  16317.719251  127.740828\n",
              "Israel                  31.720930    318.062380   17.834303\n",
              "Italy                   37.177184   1449.191580   38.068249\n",
              "Lebanon                 32.500000    241.000000   15.524175\n",
              "Luxembourg              36.000000           NaN         NaN\n",
              "Mexico                  25.571429     58.263736    7.633069\n",
              "Moldova                 15.062500     87.262500    9.341440\n",
              "Montenegro              10.000000           NaN         NaN\n",
              "New Zealand             24.553957    211.810183   14.553700\n",
              "Portugal                27.699160   1077.911026   32.831555\n",
              "Romania                 12.500000     32.147059    5.669838\n",
              "Serbia                  16.500000      4.500000    2.121320\n",
              "Slovenia                24.416667     97.537879    9.876127\n",
              "South Africa            21.392027    186.552470   13.658421\n",
              "South Korea             11.000000           NaN         NaN\n",
              "Spain                   27.939479   1559.823920   39.494606\n",
              "Switzerland             19.000000           NaN         NaN\n",
              "Turkey                  28.909091    923.690909   30.392284\n",
              "US                      33.537346    539.475055   23.226602\n",
              "US-France               50.000000           NaN         NaN\n",
              "Ukraine                 13.000000           NaN         NaN\n",
              "Uruguay                 18.428571     46.952381    6.852181"
            ]
          },
          "execution_count": 19,
          "metadata": {},
          "output_type": "execute_result"
        }
      ],
      "source": [
        "# Подсчитаем среднее количество, дисперсию и стандартное отклонения для цен на продукт различных регионов\n",
        "\n",
        "df.groupby('country', as_index=False)['price'].agg(['mean', 'var', 'std'])"
      ]
    },
    {
      "cell_type": "code",
      "execution_count": 38,
      "metadata": {},
      "outputs": [
        {
          "data": {
            "image/png": "[encoded data removed]",
            "text/plain": [
              "<Figure size 1000x500 with 1 Axes>"
            ]
          },
          "metadata": {},
          "output_type": "display_data"
        }
      ],
      "source": [
        "continent_plot = df.groupby('continent', as_index=False)['points'].mean().sort_values('points', ascending=False)\n",
        "fig = plt.figure(figsize=(10,5))\n",
        "g = sns.barplot(data=continent_plot, x='continent', y=\"points\")\n",
        "g.set_ylim(85,89)\n",
        "plt.show()"
      ]
    },
    {
      "cell_type": "markdown",
      "metadata": {
        "id": "ZV1leDu3y50K"
      },
      "source": [
        "Шаг 5.2 Построить линейную регрессию зависимости между ценой продукта и его рейтингом."
      ]
    },
    {
      "cell_type": "code",
      "execution_count": 17,
      "metadata": {
        "id": "zli-tUAjzK5Y"
      },
      "outputs": [
        {
          "name": "stderr",
          "output_type": "stream",
          "text": [
            "/var/folders/hf/p_215phd0fn2l5w4md2545sh0000gp/T/ipykernel_5041/1069541575.py:4: UserWarning: Boolean Series key will be reindexed to match DataFrame index.\n",
            "  a = df[df.price <= 150][df.points <100]\n"
          ]
        },
        {
          "data": {
            "text/plain": [
              "<AxesSubplot:xlabel='price', ylabel='points'>"
            ]
          },
          "execution_count": 17,
          "metadata": {},
          "output_type": "execute_result"
        },
        {
          "data": {
            "image/png": "[encoded data removed]",
            "text/plain": [
              "<Figure size 500x500 with 1 Axes>"
            ]
          },
          "metadata": {},
          "output_type": "display_data"
        }
      ],
      "source": [
        "sns.set(rc={'figure.figsize':(5,5), 'font.size': 10, 'axes.labelsize': 10, 'legend.fontsize': 10, \n",
        "    'axes.titlesize': 10, 'xtick.labelsize': 10, 'ytick.labelsize': 10})\n",
        "plt.figtext(0.01, -0.05, \"Рисунок 6. Диаграмма рассеяния влияние цены на цвет и рейтинг\",fontsize=10)\n",
        "a = df[df.price <= 150][df.points <100]\n",
        "sns.regplot(x=\"price\", y=\"points\", data=a, scatter_kws={\"color\": \"black\", \"s\": 10}, line_kws={\"color\": \"red\"})"
      ]
    },
    {
      "cell_type": "markdown",
      "metadata": {
        "id": "fw8jIMC0trHV"
      },
      "source": [
        "# <a name=\"6\">6. Выводы</a>"
      ]
    },
    {
      "cell_type": "markdown",
      "metadata": {
        "id": "XUZ-ZNuFzbDP"
      },
      "source": [
        "H0: Средние пользовательские рейтинги красного и белого вина одинаковые."
      ]
    },
    {
      "cell_type": "markdown",
      "metadata": {
        "id": "Pp_8UYCOzdxX"
      },
      "source": [
        "H1:Средние пользовательские рейтинги красного и белого вина разные."
      ]
    },
    {
      "cell_type": "markdown",
      "metadata": {
        "id": "ofPAun-azgDo"
      },
      "source": [
        "H0:Средние пользовательские рейтинги двух популярных сортов вина одинаковые."
      ]
    },
    {
      "cell_type": "markdown",
      "metadata": {
        "id": "kJZXNbVYziDp"
      },
      "source": [
        "H1:Средние пользовательские рейтинги двух популярных сортов вина разные."
      ]
    },
    {
      "cell_type": "markdown",
      "metadata": {
        "id": "hm8PNomGzj_s"
      },
      "source": [
        "H0:Средние пользовательские рейтинги двух континентов одинаковые."
      ]
    },
    {
      "cell_type": "markdown",
      "metadata": {
        "id": "ZzaO6DCEzl6B"
      },
      "source": [
        "H1:Средние пользовательские рейтинги двух континентов разные."
      ]
    },
    {
      "cell_type": "code",
      "execution_count": null,
      "metadata": {
        "id": "5ueaFSWDzc-k"
      },
      "outputs": [],
      "source": []
    },
    {
      "cell_type": "code",
      "execution_count": null,
      "metadata": {
        "id": "BuCkDrb_trHV"
      },
      "outputs": [],
      "source": []
    },
    {
      "cell_type": "markdown",
      "metadata": {
        "id": "us_Ji7eetrHV"
      },
      "source": [
        "**<center>Список литературы</center>**"
      ]
    },
    {
      "cell_type": "markdown",
      "metadata": {
        "id": "PHbmYQGOtrHW"
      },
      "source": [
        "1. Андерсон, К, Аналитическая культура: от сбора данных до бизнес-результатов / Карл Андерсон. - Москва : Манн, Иванов и Фербер, 2017. - 324 с.\n",
        "2. Бенгфорт Бенджамин, Билбро Ребекка, Охеда Тони, Прикладной анализ текстовых данных на Python. Машинное обучение и создание приложений обработки естественного языка. — СПб.: Питер, 2019. \n",
        "3. Мэтиз Э., Изучаем Python. Программирование игр, визуализация данных, веб-приложения. — СПб.: Питер, 2017. \n",
        "4.  Плас Дж. Вандер, Python для сложных задач: наука о данных и машинное обучение. — СПб.: Питер, 2018.\n",
        "5. Рашка С., Рашка С. Р28 Python и машинное обучение / пер. с англ. А. В. Логунова. - М.: ДМК Пресс, 2017.  \n",
        "6.  Шарден Б., Массарон Л., Боскетти А.,  Крупномасштабное машинное обучение вместе с Python. Пер. с анг. А. В. Логунова. – М.: ДМК Пресс, 2018. "
      ]
    }
  ],
  "metadata": {
    "accelerator": "GPU",
    "colab": {
      "collapsed_sections": [],
      "provenance": []
    },
    "kernelspec": {
      "display_name": "Python 3.10.6 64-bit",
      "language": "python",
      "name": "python3"
    },
    "language_info": {
      "codemirror_mode": {
        "name": "ipython",
        "version": 3
      },
      "file_extension": ".py",
      "mimetype": "text/x-python",
      "name": "python",
      "nbconvert_exporter": "python",
      "pygments_lexer": "ipython3",
      "version": "3.10.6"
    },
    "vscode": {
      "interpreter": {
        "hash": "b0fa6594d8f4cbf19f97940f81e996739fb7646882a419484c72d19e05852a7e"
      }
    }
  },
  "nbformat": 4,
  "nbformat_minor": 0
}
